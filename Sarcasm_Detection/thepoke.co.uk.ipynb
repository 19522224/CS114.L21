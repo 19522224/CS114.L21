{
  "nbformat": 4,
  "nbformat_minor": 0,
  "metadata": {
    "colab": {
      "name": "Untitled5.ipynb",
      "provenance": [],
      "include_colab_link": true
    },
    "kernelspec": {
      "name": "python3",
      "display_name": "Python 3"
    },
    "language_info": {
      "name": "python"
    }
  },
  "cells": [
    {
      "cell_type": "markdown",
      "metadata": {
        "id": "view-in-github",
        "colab_type": "text"
      },
      "source": [
        "<a href=\"https://colab.research.google.com/github/19522224/CS114.L21/blob/master/Sarcasm_Detection/thepoke.co.uk.ipynb\" target=\"_parent\"><img src=\"https://colab.research.google.com/assets/colab-badge.svg\" alt=\"Open In Colab\"/></a>"
      ]
    },
    {
      "cell_type": "markdown",
      "metadata": {
        "id": "tDrNzG9noXSz"
      },
      "source": [
        "# **Code**"
      ]
    },
    {
      "cell_type": "markdown",
      "metadata": {
        "id": "pwhQ7LEhobqS"
      },
      "source": [
        "## **Thêm thư viện**"
      ]
    },
    {
      "cell_type": "code",
      "metadata": {
        "id": "kXua330_oKAQ"
      },
      "source": [
        "import requests\n",
        "import lxml\n",
        "from bs4 import BeautifulSoup\n",
        "import pandas as pd\n",
        "import numpy as np\n",
        "import csv\n"
      ],
      "execution_count": 76,
      "outputs": []
    },
    {
      "cell_type": "markdown",
      "metadata": {
        "id": "qebwwcm_oe1L"
      },
      "source": [
        "### **Format Dataset**"
      ]
    },
    {
      "cell_type": "code",
      "metadata": {
        "id": "ymPM7p5hof3J"
      },
      "source": [
        "is_sarcastic=[] # 0 or 1\n",
        "headline=[] #headline\n",
        "article_link=[]  #url"
      ],
      "execution_count": 77,
      "outputs": []
    },
    {
      "cell_type": "markdown",
      "metadata": {
        "id": "FRsfeo9QohgQ"
      },
      "source": [
        "## **Hàm requests tới website**"
      ]
    },
    {
      "cell_type": "markdown",
      "metadata": {
        "id": "-jOJOJ0vojdB"
      },
      "source": [
        "### Mô phỏng thông tin tiêu đề của trình duyệt để tránh bị chặn khi gửi yêu cầu tới trang web nhiều lần."
      ]
    },
    {
      "cell_type": "code",
      "metadata": {
        "id": "GaDWZhoIokoc"
      },
      "source": [
        "def requests_to_website(url):\n",
        "  headers = {\n",
        "    'User-Agent': 'Mozilla/5.0 (Windows NT 6.1; WOW64) AppleWebKit/537.36 (KHTML, like Gecko) Chrome/63.0.3239.132 Safari/537.36 QIHU 360SE'\n",
        "  }\n",
        "  return  requests.get(url, headers = headers)\n"
      ],
      "execution_count": 78,
      "outputs": []
    },
    {
      "cell_type": "markdown",
      "metadata": {
        "id": "quGcr6GlomUX"
      },
      "source": [
        "### **Hàm phân tích cú pháp trang**\n"
      ]
    },
    {
      "cell_type": "code",
      "metadata": {
        "id": "UAEiPddWonQl"
      },
      "source": [
        "def parser_website(r):\n",
        "  #tạo một đối tượng BeautifulSoup và chỉ định trình phân tích cú pháp là lxml\n",
        "  return BeautifulSoup(r.content,'lxml')"
      ],
      "execution_count": 79,
      "outputs": []
    },
    {
      "cell_type": "markdown",
      "metadata": {
        "id": "S23v__yoos8K"
      },
      "source": [
        "### **Hàm lấy các thẻ**"
      ]
    },
    {
      "cell_type": "code",
      "metadata": {
        "id": "B279xAHxovFm"
      },
      "source": [
        "def get_tag(r):\n",
        "  return parser_website(r).find('div',class_=\"boxframe archive\").find_all('a')"
      ],
      "execution_count": 80,
      "outputs": []
    },
    {
      "cell_type": "markdown",
      "metadata": {
        "id": "v6iG_DmEoxM7"
      },
      "source": [
        "### **Hàm kiểm tra năm**\n"
      ]
    },
    {
      "cell_type": "code",
      "metadata": {
        "id": "rHWgnGnXo2NC"
      },
      "source": [
        "#def check_year(year,tag):\n",
        " # t=tag.find('time',class_='entry-date')['datetime'][:11]\n",
        "  #t=int(t[:4])\n",
        "  #if t<year-2:    # lấy giá trị datetime trong thẻ time và có class='entry-data'. sau đó lấy 4 kí tự đầu và chuyển về kiểu int thì được năm đăng bài viết\n",
        "   # return False\n",
        "  #return True"
      ],
      "execution_count": 81,
      "outputs": []
    },
    {
      "cell_type": "markdown",
      "metadata": {
        "id": "784WzriPo3OO"
      },
      "source": [
        "### **Hàm trích xuất các dữ liệu cần thiết**"
      ]
    },
    {
      "cell_type": "code",
      "metadata": {
        "id": "QPCeRMsio4OT"
      },
      "source": [
        "def extract_data(hl,link,kind,r):\n",
        "  tag=get_tag(r)\n",
        "  for i in tag:\n",
        "    link.append(i['href']) # lấy url thêm vào mảng\n",
        "    hl.append(i.find('p').get_text())  # lọc tiêu đề\n",
        "    kind.append(1) # gán nhãn\n",
        "\n",
        "    "
      ],
      "execution_count": 82,
      "outputs": []
    },
    {
      "cell_type": "markdown",
      "metadata": {
        "id": "1NRl-9j-o5R6"
      },
      "source": [
        "### **Hàm ghi file**"
      ]
    },
    {
      "cell_type": "code",
      "metadata": {
        "id": "yaMR9D4fo6Kz"
      },
      "source": [
        "import pandas as pd\n",
        "def Write_file(hl,link,kind,fileName):\n",
        "  data=pd.DataFrame(columns=['headline','article_link','is_sarcastic'])\n",
        "  data['headline']=hl\n",
        "  data['article_link']=link\n",
        "  data['is_sarcastic']=kind\n",
        "  data.to_csv(fileName,index=False,encoding='utf-8')\n"
      ],
      "execution_count": 83,
      "outputs": []
    },
    {
      "cell_type": "markdown",
      "metadata": {
        "id": "I3BX1nPPo7ZD"
      },
      "source": [
        "# Main"
      ]
    },
    {
      "cell_type": "code",
      "metadata": {
        "colab": {
          "base_uri": "https://localhost:8080/"
        },
        "id": "EOHUZdAyPSQO",
        "outputId": "48ed7577-1ed2-42b8-a564-5be0deabb31e"
      },
      "source": [
        "n=0\n",
        "while True:\n",
        "      url = 'https://www.thepoke.co.uk/category/news/page/{}/'.format(str(n))\n",
        "      n=n+1\n",
        "      r=requests_to_website(url)\n",
        "      print('\\n',url)\n",
        "      print('\\t',r.status_code)\n",
        "      if r.status_code==404:\n",
        "        break\n",
        "      extract_data(headline,article_link,is_sarcastic,r)"
      ],
      "execution_count": 84,
      "outputs": [
        {
          "output_type": "stream",
          "text": [
            "\n",
            " https://www.thepoke.co.uk/category/news/page/0/\n",
            "\t 200\n",
            "\n",
            " https://www.thepoke.co.uk/category/news/page/1/\n",
            "\t 200\n",
            "\n",
            " https://www.thepoke.co.uk/category/news/page/2/\n",
            "\t 200\n",
            "\n",
            " https://www.thepoke.co.uk/category/news/page/3/\n",
            "\t 200\n",
            "\n",
            " https://www.thepoke.co.uk/category/news/page/4/\n",
            "\t 200\n",
            "\n",
            " https://www.thepoke.co.uk/category/news/page/5/\n",
            "\t 200\n",
            "\n",
            " https://www.thepoke.co.uk/category/news/page/6/\n",
            "\t 200\n",
            "\n",
            " https://www.thepoke.co.uk/category/news/page/7/\n",
            "\t 200\n",
            "\n",
            " https://www.thepoke.co.uk/category/news/page/8/\n",
            "\t 200\n",
            "\n",
            " https://www.thepoke.co.uk/category/news/page/9/\n",
            "\t 200\n",
            "\n",
            " https://www.thepoke.co.uk/category/news/page/10/\n",
            "\t 200\n",
            "\n",
            " https://www.thepoke.co.uk/category/news/page/11/\n",
            "\t 200\n",
            "\n",
            " https://www.thepoke.co.uk/category/news/page/12/\n",
            "\t 200\n",
            "\n",
            " https://www.thepoke.co.uk/category/news/page/13/\n",
            "\t 200\n",
            "\n",
            " https://www.thepoke.co.uk/category/news/page/14/\n",
            "\t 200\n",
            "\n",
            " https://www.thepoke.co.uk/category/news/page/15/\n",
            "\t 200\n",
            "\n",
            " https://www.thepoke.co.uk/category/news/page/16/\n",
            "\t 200\n",
            "\n",
            " https://www.thepoke.co.uk/category/news/page/17/\n",
            "\t 200\n",
            "\n",
            " https://www.thepoke.co.uk/category/news/page/18/\n",
            "\t 200\n",
            "\n",
            " https://www.thepoke.co.uk/category/news/page/19/\n",
            "\t 200\n",
            "\n",
            " https://www.thepoke.co.uk/category/news/page/20/\n",
            "\t 200\n",
            "\n",
            " https://www.thepoke.co.uk/category/news/page/21/\n",
            "\t 200\n",
            "\n",
            " https://www.thepoke.co.uk/category/news/page/22/\n",
            "\t 200\n",
            "\n",
            " https://www.thepoke.co.uk/category/news/page/23/\n",
            "\t 200\n",
            "\n",
            " https://www.thepoke.co.uk/category/news/page/24/\n",
            "\t 200\n",
            "\n",
            " https://www.thepoke.co.uk/category/news/page/25/\n",
            "\t 200\n",
            "\n",
            " https://www.thepoke.co.uk/category/news/page/26/\n",
            "\t 200\n",
            "\n",
            " https://www.thepoke.co.uk/category/news/page/27/\n",
            "\t 200\n",
            "\n",
            " https://www.thepoke.co.uk/category/news/page/28/\n",
            "\t 200\n",
            "\n",
            " https://www.thepoke.co.uk/category/news/page/29/\n",
            "\t 200\n",
            "\n",
            " https://www.thepoke.co.uk/category/news/page/30/\n",
            "\t 200\n",
            "\n",
            " https://www.thepoke.co.uk/category/news/page/31/\n",
            "\t 200\n",
            "\n",
            " https://www.thepoke.co.uk/category/news/page/32/\n",
            "\t 200\n",
            "\n",
            " https://www.thepoke.co.uk/category/news/page/33/\n",
            "\t 200\n",
            "\n",
            " https://www.thepoke.co.uk/category/news/page/34/\n",
            "\t 200\n",
            "\n",
            " https://www.thepoke.co.uk/category/news/page/35/\n",
            "\t 200\n",
            "\n",
            " https://www.thepoke.co.uk/category/news/page/36/\n",
            "\t 200\n",
            "\n",
            " https://www.thepoke.co.uk/category/news/page/37/\n",
            "\t 200\n",
            "\n",
            " https://www.thepoke.co.uk/category/news/page/38/\n",
            "\t 200\n",
            "\n",
            " https://www.thepoke.co.uk/category/news/page/39/\n",
            "\t 200\n",
            "\n",
            " https://www.thepoke.co.uk/category/news/page/40/\n",
            "\t 200\n",
            "\n",
            " https://www.thepoke.co.uk/category/news/page/41/\n",
            "\t 200\n",
            "\n",
            " https://www.thepoke.co.uk/category/news/page/42/\n",
            "\t 200\n",
            "\n",
            " https://www.thepoke.co.uk/category/news/page/43/\n",
            "\t 200\n",
            "\n",
            " https://www.thepoke.co.uk/category/news/page/44/\n",
            "\t 200\n",
            "\n",
            " https://www.thepoke.co.uk/category/news/page/45/\n",
            "\t 200\n",
            "\n",
            " https://www.thepoke.co.uk/category/news/page/46/\n",
            "\t 200\n",
            "\n",
            " https://www.thepoke.co.uk/category/news/page/47/\n",
            "\t 200\n",
            "\n",
            " https://www.thepoke.co.uk/category/news/page/48/\n",
            "\t 200\n",
            "\n",
            " https://www.thepoke.co.uk/category/news/page/49/\n",
            "\t 200\n",
            "\n",
            " https://www.thepoke.co.uk/category/news/page/50/\n",
            "\t 200\n",
            "\n",
            " https://www.thepoke.co.uk/category/news/page/51/\n",
            "\t 200\n",
            "\n",
            " https://www.thepoke.co.uk/category/news/page/52/\n",
            "\t 200\n",
            "\n",
            " https://www.thepoke.co.uk/category/news/page/53/\n",
            "\t 200\n",
            "\n",
            " https://www.thepoke.co.uk/category/news/page/54/\n",
            "\t 200\n",
            "\n",
            " https://www.thepoke.co.uk/category/news/page/55/\n",
            "\t 200\n",
            "\n",
            " https://www.thepoke.co.uk/category/news/page/56/\n",
            "\t 200\n",
            "\n",
            " https://www.thepoke.co.uk/category/news/page/57/\n",
            "\t 200\n",
            "\n",
            " https://www.thepoke.co.uk/category/news/page/58/\n",
            "\t 200\n",
            "\n",
            " https://www.thepoke.co.uk/category/news/page/59/\n",
            "\t 200\n",
            "\n",
            " https://www.thepoke.co.uk/category/news/page/60/\n",
            "\t 200\n",
            "\n",
            " https://www.thepoke.co.uk/category/news/page/61/\n",
            "\t 200\n",
            "\n",
            " https://www.thepoke.co.uk/category/news/page/62/\n",
            "\t 200\n",
            "\n",
            " https://www.thepoke.co.uk/category/news/page/63/\n",
            "\t 200\n",
            "\n",
            " https://www.thepoke.co.uk/category/news/page/64/\n",
            "\t 200\n",
            "\n",
            " https://www.thepoke.co.uk/category/news/page/65/\n",
            "\t 200\n",
            "\n",
            " https://www.thepoke.co.uk/category/news/page/66/\n",
            "\t 200\n",
            "\n",
            " https://www.thepoke.co.uk/category/news/page/67/\n",
            "\t 200\n",
            "\n",
            " https://www.thepoke.co.uk/category/news/page/68/\n",
            "\t 200\n",
            "\n",
            " https://www.thepoke.co.uk/category/news/page/69/\n",
            "\t 200\n",
            "\n",
            " https://www.thepoke.co.uk/category/news/page/70/\n",
            "\t 200\n",
            "\n",
            " https://www.thepoke.co.uk/category/news/page/71/\n",
            "\t 200\n",
            "\n",
            " https://www.thepoke.co.uk/category/news/page/72/\n",
            "\t 200\n",
            "\n",
            " https://www.thepoke.co.uk/category/news/page/73/\n",
            "\t 200\n",
            "\n",
            " https://www.thepoke.co.uk/category/news/page/74/\n",
            "\t 200\n",
            "\n",
            " https://www.thepoke.co.uk/category/news/page/75/\n",
            "\t 200\n",
            "\n",
            " https://www.thepoke.co.uk/category/news/page/76/\n",
            "\t 200\n",
            "\n",
            " https://www.thepoke.co.uk/category/news/page/77/\n",
            "\t 200\n",
            "\n",
            " https://www.thepoke.co.uk/category/news/page/78/\n",
            "\t 200\n",
            "\n",
            " https://www.thepoke.co.uk/category/news/page/79/\n",
            "\t 200\n",
            "\n",
            " https://www.thepoke.co.uk/category/news/page/80/\n",
            "\t 200\n",
            "\n",
            " https://www.thepoke.co.uk/category/news/page/81/\n",
            "\t 200\n",
            "\n",
            " https://www.thepoke.co.uk/category/news/page/82/\n",
            "\t 200\n",
            "\n",
            " https://www.thepoke.co.uk/category/news/page/83/\n",
            "\t 200\n",
            "\n",
            " https://www.thepoke.co.uk/category/news/page/84/\n",
            "\t 200\n",
            "\n",
            " https://www.thepoke.co.uk/category/news/page/85/\n",
            "\t 200\n",
            "\n",
            " https://www.thepoke.co.uk/category/news/page/86/\n",
            "\t 200\n",
            "\n",
            " https://www.thepoke.co.uk/category/news/page/87/\n",
            "\t 200\n",
            "\n",
            " https://www.thepoke.co.uk/category/news/page/88/\n",
            "\t 200\n",
            "\n",
            " https://www.thepoke.co.uk/category/news/page/89/\n",
            "\t 200\n",
            "\n",
            " https://www.thepoke.co.uk/category/news/page/90/\n",
            "\t 404\n"
          ],
          "name": "stdout"
        }
      ]
    },
    {
      "cell_type": "code",
      "metadata": {
        "id": "uu9YsYFBo9cX",
        "colab": {
          "base_uri": "https://localhost:8080/"
        },
        "outputId": "25658269-a447-4f16-b687-567126d927b2"
      },
      "source": [
        "len(headline)  # check số headline đc scrape"
      ],
      "execution_count": 85,
      "outputs": [
        {
          "output_type": "execute_result",
          "data": {
            "text/plain": [
              "1170"
            ]
          },
          "metadata": {
            "tags": []
          },
          "execution_count": 85
        }
      ]
    },
    {
      "cell_type": "code",
      "metadata": {
        "id": "gbglfAJvo-J8"
      },
      "source": [
        "Write_file(headline,article_link,is_sarcastic,'thepoke.co.uk.csv')"
      ],
      "execution_count": 89,
      "outputs": []
    },
    {
      "cell_type": "code",
      "metadata": {
        "id": "LvpUxBO7o-04"
      },
      "source": [
        "df=pd.read_csv('thepoke.co.uk.csv',encoding='utf-8')"
      ],
      "execution_count": 90,
      "outputs": []
    },
    {
      "cell_type": "code",
      "metadata": {
        "id": "gS7sBMtgo_fG",
        "colab": {
          "base_uri": "https://localhost:8080/",
          "height": 359
        },
        "outputId": "d8f28803-0811-4b08-d762-8c8db31bcf52"
      },
      "source": [
        "df.head(10)"
      ],
      "execution_count": 91,
      "outputs": [
        {
          "output_type": "execute_result",
          "data": {
            "text/html": [
              "<div>\n",
              "<style scoped>\n",
              "    .dataframe tbody tr th:only-of-type {\n",
              "        vertical-align: middle;\n",
              "    }\n",
              "\n",
              "    .dataframe tbody tr th {\n",
              "        vertical-align: top;\n",
              "    }\n",
              "\n",
              "    .dataframe thead th {\n",
              "        text-align: right;\n",
              "    }\n",
              "</style>\n",
              "<table border=\"1\" class=\"dataframe\">\n",
              "  <thead>\n",
              "    <tr style=\"text-align: right;\">\n",
              "      <th></th>\n",
              "      <th>headline</th>\n",
              "      <th>article_link</th>\n",
              "      <th>is_sarcastic</th>\n",
              "    </tr>\n",
              "  </thead>\n",
              "  <tbody>\n",
              "    <tr>\n",
              "      <th>0</th>\n",
              "      <td>Boris Johnson said people could afford private...</td>\n",
              "      <td>https://www.thepoke.co.uk/2021/06/10/boris-joh...</td>\n",
              "      <td>1</td>\n",
              "    </tr>\n",
              "    <tr>\n",
              "      <th>1</th>\n",
              "      <td>Boris Johnson took a plane to Cornwall to disc...</td>\n",
              "      <td>https://www.thepoke.co.uk/2021/06/10/boris-joh...</td>\n",
              "      <td>1</td>\n",
              "    </tr>\n",
              "    <tr>\n",
              "      <th>2</th>\n",
              "      <td>Gavin Williamson criticised students for takin...</td>\n",
              "      <td>https://www.thepoke.co.uk/2021/06/09/gavin-wil...</td>\n",
              "      <td>1</td>\n",
              "    </tr>\n",
              "    <tr>\n",
              "      <th>3</th>\n",
              "      <td>A former Brexit Party MEP asked which two Engl...</td>\n",
              "      <td>https://www.thepoke.co.uk/2021/06/07/a-former-...</td>\n",
              "      <td>1</td>\n",
              "    </tr>\n",
              "    <tr>\n",
              "      <th>4</th>\n",
              "      <td>Gary Lineker had the best response to people s...</td>\n",
              "      <td>https://www.thepoke.co.uk/2021/06/07/gary-line...</td>\n",
              "      <td>1</td>\n",
              "    </tr>\n",
              "    <tr>\n",
              "      <th>5</th>\n",
              "      <td>The Sussexes named their new daughter Lilibet ...</td>\n",
              "      <td>https://www.thepoke.co.uk/2021/06/07/sussexes-...</td>\n",
              "      <td>1</td>\n",
              "    </tr>\n",
              "    <tr>\n",
              "      <th>6</th>\n",
              "      <td>Dido ‘Test and Trace’ Harding fancies running ...</td>\n",
              "      <td>https://www.thepoke.co.uk/2021/06/07/dido-test...</td>\n",
              "      <td>1</td>\n",
              "    </tr>\n",
              "    <tr>\n",
              "      <th>7</th>\n",
              "      <td>Our 17 favourite takedowns of Trump’s trousers...</td>\n",
              "      <td>https://www.thepoke.co.uk/2021/06/07/trumps-tr...</td>\n",
              "      <td>1</td>\n",
              "    </tr>\n",
              "    <tr>\n",
              "      <th>8</th>\n",
              "      <td>Nigel Farage got the red card for supporting s...</td>\n",
              "      <td>https://www.thepoke.co.uk/2021/06/07/nigel-far...</td>\n",
              "      <td>1</td>\n",
              "    </tr>\n",
              "    <tr>\n",
              "      <th>9</th>\n",
              "      <td>The government’s education catch-up tsar quits...</td>\n",
              "      <td>https://www.thepoke.co.uk/2021/06/04/the-gover...</td>\n",
              "      <td>1</td>\n",
              "    </tr>\n",
              "  </tbody>\n",
              "</table>\n",
              "</div>"
            ],
            "text/plain": [
              "                                            headline  ... is_sarcastic\n",
              "0  Boris Johnson said people could afford private...  ...            1\n",
              "1  Boris Johnson took a plane to Cornwall to disc...  ...            1\n",
              "2  Gavin Williamson criticised students for takin...  ...            1\n",
              "3  A former Brexit Party MEP asked which two Engl...  ...            1\n",
              "4  Gary Lineker had the best response to people s...  ...            1\n",
              "5  The Sussexes named their new daughter Lilibet ...  ...            1\n",
              "6  Dido ‘Test and Trace’ Harding fancies running ...  ...            1\n",
              "7  Our 17 favourite takedowns of Trump’s trousers...  ...            1\n",
              "8  Nigel Farage got the red card for supporting s...  ...            1\n",
              "9  The government’s education catch-up tsar quits...  ...            1\n",
              "\n",
              "[10 rows x 3 columns]"
            ]
          },
          "metadata": {
            "tags": []
          },
          "execution_count": 91
        }
      ]
    }
  ]
}