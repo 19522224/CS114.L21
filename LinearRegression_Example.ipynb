{
  "nbformat": 4,
  "nbformat_minor": 0,
  "metadata": {
    "colab": {
      "name": "Untitled3.ipynb",
      "provenance": [],
      "toc_visible": true,
      "authorship_tag": "ABX9TyO4/vggLkGq3XLmxnG9CP+A",
      "include_colab_link": true
    },
    "kernelspec": {
      "name": "python3",
      "display_name": "Python 3"
    },
    "language_info": {
      "name": "python"
    }
  },
  "cells": [
    {
      "cell_type": "markdown",
      "metadata": {
        "id": "view-in-github",
        "colab_type": "text"
      },
      "source": [
        "<a href=\"https://colab.research.google.com/github/19522224/CS114.L21/blob/master/LinearRegression_Example.ipynb\" target=\"_parent\"><img src=\"https://colab.research.google.com/assets/colab-badge.svg\" alt=\"Open In Colab\"/></a>"
      ]
    },
    {
      "cell_type": "markdown",
      "metadata": {
        "id": "d3th__8573V1"
      },
      "source": [
        "# **Linear Regression**"
      ]
    },
    {
      "cell_type": "markdown",
      "metadata": {
        "id": "M2IU8Moa8LAs"
      },
      "source": [
        "Thư viện"
      ]
    },
    {
      "cell_type": "code",
      "metadata": {
        "id": "fzoEvcip6tPn"
      },
      "source": [
        "import numpy as np\n",
        "from sklearn.linear_model import LinearRegression\n",
        "import matplotlib.pyplot as plt\n",
        "import pandas as pd"
      ],
      "execution_count": 4,
      "outputs": []
    },
    {
      "cell_type": "markdown",
      "metadata": {
        "id": "NIH33tV08erQ"
      },
      "source": [
        "Đọc tệp train: data2.txt"
      ]
    },
    {
      "cell_type": "code",
      "metadata": {
        "id": "vU5FYSLk8PfN"
      },
      "source": [
        "train=pd.read_csv('./data2.txt')"
      ],
      "execution_count": 14,
      "outputs": []
    },
    {
      "cell_type": "markdown",
      "metadata": {
        "id": "e2icSgLE9Byk"
      },
      "source": [
        "Xử lí dữ liệu"
      ]
    },
    {
      "cell_type": "code",
      "metadata": {
        "id": "q2zlyytq9Jm6"
      },
      "source": [
        "x=np.array(train['A']).reshape(-1,1)\n",
        "y=np.array(train['B'])"
      ],
      "execution_count": 15,
      "outputs": []
    },
    {
      "cell_type": "markdown",
      "metadata": {
        "id": "sRDdCZna_9gC"
      },
      "source": [
        "Biểu diễn dữ liệu trong đồ thị "
      ]
    },
    {
      "cell_type": "code",
      "metadata": {
        "colab": {
          "base_uri": "https://localhost:8080/",
          "height": 278
        },
        "id": "lufYKE58AEfG",
        "outputId": "4b8b042d-3c92-40b4-eb9c-276ca9de403d"
      },
      "source": [
        "%matplotlib inline\n",
        "plt.plot(x,y)\n",
        "plt.show()"
      ],
      "execution_count": 16,
      "outputs": [
        {
          "output_type": "display_data",
          "data": {
            "image/png": "[encoded data removed]",
            "text/plain": [
              "<Figure size 432x288 with 1 Axes>"
            ]
          },
          "metadata": {
            "tags": [],
            "needs_background": "light"
          }
        }
      ]
    },
    {
      "cell_type": "markdown",
      "metadata": {
        "id": "gI1fMzP0-mhD"
      },
      "source": [
        "Train model : Linear regression "
      ]
    },
    {
      "cell_type": "code",
      "metadata": {
        "id": "rKtTDDwY-uX7"
      },
      "source": [
        "model= LinearRegression().fit(x,y)"
      ],
      "execution_count": 17,
      "outputs": []
    },
    {
      "cell_type": "code",
      "metadata": {
        "colab": {
          "base_uri": "https://localhost:8080/"
        },
        "id": "JivEc22YB74P",
        "outputId": "fb8ae10b-ea81-4ab5-92d1-558e2e4abcd3"
      },
      "source": [
        "predicted = model.predict(x)\n",
        "\n",
        "# summarize the fit of the model\n",
        "mse = np.mean((predicted-y)**2)\n",
        "print(model.intercept_, model.coef_, mse, )\n",
        "print(model.score(x, y))"
      ],
      "execution_count": 24,
      "outputs": [
        {
          "output_type": "stream",
          "text": [
            "-0.015895527000496013 [8.45569856e-08] 0.00014337728721748835\n",
            "0.9975924993345859\n"
          ],
          "name": "stdout"
        }
      ]
    }
  ]
}